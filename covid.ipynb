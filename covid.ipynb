{
 "cells": [
  {
   "cell_type": "code",
   "execution_count": 1,
   "id": "1f5b7689",
   "metadata": {},
   "outputs": [],
   "source": [
    "import cv2\n",
    "import glob\n",
    "import matplotlib.pyplot as plt\n",
    "import imutils\n",
    "import numpy as np\n",
    "from sklearn.model_selection import train_test_split\n",
    "from sklearn.svm import SVC\n",
    "from sklearn.preprocessing import StandardScaler\n",
    "from sklearn.metrics import accuracy_score, classification_report\n",
    "from sklearn.decomposition import PCA, KernelPCA\n",
    "from sklearn.ensemble import RandomForestClassifier"
   ]
  },
  {
   "cell_type": "code",
   "execution_count": 2,
   "id": "ad797e28",
   "metadata": {},
   "outputs": [],
   "source": [
    "data_no = 'data-covid/no/'\n",
    "ext = ['png', 'jpg', 'gif']    # Add image formats here\n",
    "\n",
    "files_no = []\n",
    "[files_no.extend(glob.glob(data_no + '*.' + e)) for e in ext]\n",
    "\n",
    "images_no = [cv2.imread(file) for file in files_no]"
   ]
  },
  {
   "cell_type": "code",
   "execution_count": 37,
   "id": "cda104e1",
   "metadata": {},
   "outputs": [],
   "source": [
    "data_yes = 'data-covid/yes/'\n",
    "ext = ['png', 'jpg', 'gif']    # Add image formats here\n",
    "\n",
    "files_yes = []\n",
    "[files_yes.extend(glob.glob(data_yes + '*.' + e)) for e in ext]\n",
    "\n",
    "images_yes = [cv2.imread(file) for file in files_yes]"
   ]
  },
  {
   "cell_type": "code",
   "execution_count": 39,
   "id": "51d5f8d7",
   "metadata": {},
   "outputs": [
    {
     "name": "stdout",
     "output_type": "stream",
     "text": [
      "8440\n"
     ]
    }
   ],
   "source": [
    "print(len(images_no)+ len(images_yes))\n"
   ]
  },
  {
   "cell_type": "code",
   "execution_count": 40,
   "id": "923749e6",
   "metadata": {},
   "outputs": [],
   "source": [
    "def crop_image(image):\n",
    "    \n",
    "    # Convert the image to grayscale, and blur it slightly\n",
    "    gray = cv2.cvtColor(image, cv2.COLOR_BGR2GRAY)\n",
    "    gray = cv2.GaussianBlur(gray, (5, 5), 0)\n",
    "    \n",
    "    thresh = cv2.threshold(gray, 45, 255, cv2.THRESH_BINARY)[1]\n",
    "    thresh = cv2.erode(thresh, None, iterations=2)\n",
    "    thresh = cv2.dilate(thresh, None, iterations=2)\n",
    "\n",
    "    # Find contours in thresholded image, then grab the largest one\n",
    "    cnts = cv2.findContours(thresh.copy(), cv2.RETR_EXTERNAL, cv2.CHAIN_APPROX_SIMPLE)\n",
    "    cnts = imutils.grab_contours(cnts)\n",
    "    c = max(cnts, key=cv2.contourArea)\n",
    "    # extreme points\n",
    "    extLeft = tuple(c[c[:, :, 0].argmin()][0])\n",
    "    extRight = tuple(c[c[:, :, 0].argmax()][0])\n",
    "    extTop = tuple(c[c[:, :, 1].argmin()][0])\n",
    "    extBot = tuple(c[c[:, :, 1].argmax()][0])\n",
    "    \n",
    "    # crop new image out of the original image using the four extreme points (left, right, top, bottom)\n",
    "    new_image = image[extTop[1]:extBot[1], extLeft[0]:extRight[0]]            \n",
    "    \n",
    "    return new_image"
   ]
  },
  {
   "cell_type": "code",
   "execution_count": 41,
   "id": "794606a7",
   "metadata": {},
   "outputs": [],
   "source": [
    "covid_imgs_croped_yes = []\n",
    "covid_imgs_croped_no = []\n",
    "\n",
    "\n",
    "for image in images_yes:\n",
    "    x = crop_image(image)\n",
    "    x_resize = cv2.resize(x, (128, 128))\n",
    "    gray = cv2.cvtColor(x_resize, cv2.COLOR_BGR2GRAY)\n",
    "    covid_imgs_croped_yes.append(gray)\n",
    "\n",
    "\n",
    "for image in images_no:\n",
    "    x = crop_image(image)\n",
    "    x_resize = cv2.resize(x, (128, 128))\n",
    "    gray = cv2.cvtColor(x_resize, cv2.COLOR_BGR2GRAY)\n",
    "    covid_imgs_croped_no.append(gray)"
   ]
  },
  {
   "cell_type": "code",
   "execution_count": 42,
   "id": "8934c9b4",
   "metadata": {},
   "outputs": [],
   "source": [
    "y_yes = np.ones(len(covid_imgs_croped_yes), dtype=\"int8\")\n",
    "y_no = np.zeros(len(covid_imgs_croped_no), dtype=\"int8\")"
   ]
  },
  {
   "cell_type": "code",
   "execution_count": 44,
   "id": "050f08cb",
   "metadata": {},
   "outputs": [],
   "source": [
    "X = np.concatenate((covid_imgs_croped_yes, covid_imgs_croped_no), axis=0)\n",
    "y = np.concatenate((y_yes, y_no), axis=0)\n",
    "d1, d2, d3 = X.shape"
   ]
  },
  {
   "cell_type": "code",
   "execution_count": 45,
   "id": "b6b118e4",
   "metadata": {},
   "outputs": [],
   "source": [
    "X = X.reshape((d1, d2 * d3))\n"
   ]
  },
  {
   "cell_type": "code",
   "execution_count": 46,
   "id": "8c581429",
   "metadata": {},
   "outputs": [],
   "source": [
    "X_train, X_test, y_train, y_test = train_test_split(X, y, test_size=0.2, random_state=10)\n"
   ]
  },
  {
   "cell_type": "markdown",
   "id": "45acbcc4",
   "metadata": {},
   "source": [
    "## scale data before train model\n"
   ]
  },
  {
   "cell_type": "code",
   "execution_count": 47,
   "id": "0129940a",
   "metadata": {},
   "outputs": [],
   "source": [
    "scaler_ = StandardScaler()\n",
    "X_train_sc = scaler_.fit_transform(X_train)\n",
    "X_test_sc = scaler_.transform(X_test)"
   ]
  },
  {
   "cell_type": "markdown",
   "id": "a4652294",
   "metadata": {},
   "source": [
    "## random forest without pca\n"
   ]
  },
  {
   "cell_type": "code",
   "execution_count": 48,
   "id": "139c5b9d",
   "metadata": {},
   "outputs": [],
   "source": [
    "rf_model = RandomForestClassifier()\n",
    "rf_model.fit(X_train_sc, y_train)\n",
    "y_predict_rf = rf_model.predict(X_test_sc)"
   ]
  },
  {
   "cell_type": "markdown",
   "id": "d9403755",
   "metadata": {},
   "source": [
    "## SVC without pca\n"
   ]
  },
  {
   "cell_type": "code",
   "execution_count": 49,
   "id": "ea7630b7",
   "metadata": {},
   "outputs": [],
   "source": [
    "svc_model = SVC(kernel=\"linear\")\n",
    "svc_model.fit(X_train_sc, y_train)\n",
    "y_predict_svc = svc_model.predict(X_test_sc)\n"
   ]
  },
  {
   "cell_type": "markdown",
   "id": "201d7dd6",
   "metadata": {},
   "source": [
    "## PCA"
   ]
  },
  {
   "cell_type": "code",
   "execution_count": 50,
   "id": "4f87ff5e",
   "metadata": {},
   "outputs": [],
   "source": [
    "data_pca = PCA(n_components=12)\n",
    "pca_components = data_pca.fit(X_train_sc)\n",
    "X_train_pca = pca_components.fit_transform(X_train_sc)\n",
    "X_test_pca = pca_components.transform(X_test_sc)"
   ]
  },
  {
   "cell_type": "markdown",
   "id": "c2ea1266",
   "metadata": {},
   "source": [
    "## KernelPCA\n"
   ]
  },
  {
   "cell_type": "code",
   "execution_count": 51,
   "id": "ae4e5a90",
   "metadata": {},
   "outputs": [],
   "source": [
    "data_kpca = KernelPCA()\n",
    "kpca_components = data_kpca.fit(X_train_sc)\n",
    "X_train_kpca = kpca_components.fit_transform(X_train_sc)\n",
    "X_test_kpca = kpca_components.transform(X_test_sc)\n"
   ]
  },
  {
   "cell_type": "markdown",
   "id": "3875c145",
   "metadata": {},
   "source": [
    "## RandomForest With PCA\n"
   ]
  },
  {
   "cell_type": "code",
   "execution_count": 52,
   "id": "f00126c3",
   "metadata": {},
   "outputs": [],
   "source": [
    "rf_model_pca = RandomForestClassifier()\n",
    "rf_model_pca.fit(X_train_pca, y_train)\n",
    "y_predict_rf_pca = rf_model_pca.predict(X_test_pca)"
   ]
  },
  {
   "cell_type": "markdown",
   "id": "6b69eb2c",
   "metadata": {},
   "source": [
    "## SVC With PCA\n"
   ]
  },
  {
   "cell_type": "code",
   "execution_count": 53,
   "id": "a7636e41",
   "metadata": {},
   "outputs": [],
   "source": [
    "svc_model_pca = SVC(kernel=\"linear\")\n",
    "svc_model.fit(X_train_pca, y_train)\n",
    "y_predict_pca = svc_model.predict(X_test_pca)"
   ]
  },
  {
   "cell_type": "markdown",
   "id": "afad6235",
   "metadata": {},
   "source": [
    "## RandomForest With KernelPCA\n"
   ]
  },
  {
   "cell_type": "code",
   "execution_count": 54,
   "id": "5e4f3fe1",
   "metadata": {},
   "outputs": [],
   "source": [
    "rf_model_kpca = RandomForestClassifier()\n",
    "rf_model_kpca.fit(X_train_kpca, y_train)\n",
    "y_predict_rf_kpca = rf_model_kpca.predict(X_test_kpca)"
   ]
  },
  {
   "cell_type": "markdown",
   "id": "0247bbdb",
   "metadata": {},
   "source": [
    "## SVC With KernelPCA\n"
   ]
  },
  {
   "cell_type": "code",
   "execution_count": 55,
   "id": "6bce84c1",
   "metadata": {},
   "outputs": [],
   "source": [
    "svc_model_kpca = SVC(kernel=\"linear\")\n",
    "svc_model.fit(X_train_kpca, y_train)\n",
    "y_predict_kpca = svc_model.predict(X_test_kpca)"
   ]
  },
  {
   "cell_type": "code",
   "execution_count": 56,
   "id": "7c008652",
   "metadata": {},
   "outputs": [
    {
     "name": "stdout",
     "output_type": "stream",
     "text": [
      "without PCA:  0.8838862559241706\n",
      "with PCA:  0.8755924170616114\n"
     ]
    }
   ],
   "source": [
    "print(\"without PCA: \", accuracy_score(y_test, y_predict_svc))\n",
    "print(\"with PCA: \", accuracy_score(y_test, y_predict_pca))"
   ]
  },
  {
   "cell_type": "code",
   "execution_count": 57,
   "id": "f1f87b2d",
   "metadata": {},
   "outputs": [
    {
     "name": "stdout",
     "output_type": "stream",
     "text": [
      "without PCA:\n",
      "              precision    recall  f1-score   support\n",
      "\n",
      "           0       0.93      0.93      0.93      1429\n",
      "           1       0.62      0.63      0.63       259\n",
      "\n",
      "    accuracy                           0.88      1688\n",
      "   macro avg       0.78      0.78      0.78      1688\n",
      "weighted avg       0.89      0.88      0.88      1688\n",
      "\n"
     ]
    }
   ],
   "source": [
    "print(\"without PCA:\")\n",
    "print(classification_report(y_test, y_predict_svc))"
   ]
  },
  {
   "cell_type": "code",
   "execution_count": 58,
   "id": "012bf43f",
   "metadata": {},
   "outputs": [
    {
     "name": "stdout",
     "output_type": "stream",
     "text": [
      "with PCA:\n",
      "              precision    recall  f1-score   support\n",
      "\n",
      "           0       0.88      0.99      0.93      1429\n",
      "           1       0.84      0.24      0.37       259\n",
      "\n",
      "    accuracy                           0.88      1688\n",
      "   macro avg       0.86      0.61      0.65      1688\n",
      "weighted avg       0.87      0.88      0.84      1688\n",
      "\n"
     ]
    }
   ],
   "source": [
    "print(\"with PCA:\")\n",
    "print(classification_report(y_test, y_predict_pca))"
   ]
  },
  {
   "cell_type": "code",
   "execution_count": 59,
   "id": "dae3e335",
   "metadata": {},
   "outputs": [
    {
     "name": "stdout",
     "output_type": "stream",
     "text": [
      "RandomForest without PCA:\n",
      "              precision    recall  f1-score   support\n",
      "\n",
      "           0       0.94      0.99      0.97      1429\n",
      "           1       0.95      0.64      0.77       259\n",
      "\n",
      "    accuracy                           0.94      1688\n",
      "   macro avg       0.94      0.82      0.87      1688\n",
      "weighted avg       0.94      0.94      0.94      1688\n",
      "\n"
     ]
    }
   ],
   "source": [
    "print(\"RandomForest without PCA:\")\n",
    "print(classification_report(y_test, y_predict_rf))"
   ]
  },
  {
   "cell_type": "code",
   "execution_count": 60,
   "id": "02876973",
   "metadata": {},
   "outputs": [
    {
     "name": "stdout",
     "output_type": "stream",
     "text": [
      "RandomForest with PCA:\n",
      "              precision    recall  f1-score   support\n",
      "\n",
      "           0       0.92      0.99      0.95      1429\n",
      "           1       0.89      0.51      0.65       259\n",
      "\n",
      "    accuracy                           0.91      1688\n",
      "   macro avg       0.90      0.75      0.80      1688\n",
      "weighted avg       0.91      0.91      0.90      1688\n",
      "\n"
     ]
    }
   ],
   "source": [
    "print(\"RandomForest with PCA:\")\n",
    "print(classification_report(y_test, y_predict_rf_pca))"
   ]
  },
  {
   "cell_type": "code",
   "execution_count": 61,
   "id": "a9cf958a",
   "metadata": {},
   "outputs": [
    {
     "name": "stdout",
     "output_type": "stream",
     "text": [
      "RandomForest without KPCA:\n",
      "              precision    recall  f1-score   support\n",
      "\n",
      "           0       0.77      0.10      0.18      1429\n",
      "           1       0.14      0.83      0.24       259\n",
      "\n",
      "    accuracy                           0.21      1688\n",
      "   macro avg       0.45      0.47      0.21      1688\n",
      "weighted avg       0.67      0.21      0.19      1688\n",
      "\n"
     ]
    }
   ],
   "source": [
    "print(\"RandomForest without KPCA:\")\n",
    "print(classification_report(y_test, y_predict_rf_kpca))"
   ]
  },
  {
   "cell_type": "code",
   "execution_count": 62,
   "id": "e29d0bb8",
   "metadata": {},
   "outputs": [
    {
     "name": "stdout",
     "output_type": "stream",
     "text": [
      "SVC with KPCA:\n",
      "              precision    recall  f1-score   support\n",
      "\n",
      "           0       0.93      0.93      0.93      1429\n",
      "           1       0.62      0.63      0.63       259\n",
      "\n",
      "    accuracy                           0.88      1688\n",
      "   macro avg       0.78      0.78      0.78      1688\n",
      "weighted avg       0.89      0.88      0.88      1688\n",
      "\n"
     ]
    }
   ],
   "source": [
    "print(\"SVC with KPCA:\")\n",
    "print(classification_report(y_test, y_predict_kpca))"
   ]
  }
 ],
 "metadata": {
  "kernelspec": {
   "display_name": "Python 3 (ipykernel)",
   "language": "python",
   "name": "python3"
  },
  "language_info": {
   "codemirror_mode": {
    "name": "ipython",
    "version": 3
   },
   "file_extension": ".py",
   "mimetype": "text/x-python",
   "name": "python",
   "nbconvert_exporter": "python",
   "pygments_lexer": "ipython3",
   "version": "3.8.10"
  }
 },
 "nbformat": 4,
 "nbformat_minor": 5
}
